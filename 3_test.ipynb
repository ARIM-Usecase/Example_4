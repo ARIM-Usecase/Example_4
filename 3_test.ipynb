{
 "cells": [
  {
   "cell_type": "markdown",
   "metadata": {},
   "source": [
    "# ARIM-Academy：　機器データ利活用ユースケース（３）\n",
    "### タイトル：CNNによるSEM画像からのLiB活物質の組成と状態予測\n",
    "### 機器：走査電子顕微鏡（SEM）\n",
    "### 分析：CNNによる画像識別　（検証編）"
   ]
  },
  {
   "cell_type": "markdown",
   "metadata": {},
   "source": [
    "## データセット\n",
    "\n",
    "**『LIBカソード電極のSEMデータセット』**は、さまざまなLi（Ni、Co、Mn）O 2（NCM）カソードの主な組成（例：333、523、622、および811）とさまざまな状態（例：初期、サイクル前、および100回サイクル）を分類する予測モデルの開発を目的に集められた走査電子顕微鏡（SEM）画像です。電池材料の特性を、画像情報からより迅速かつ正確に評価でき、次世代のリチウムイオン電池の開発に役立ちます。\n",
    "\n",
    "[1] Oh, J., Yeom, J., Madika, B. et al. Composition and state prediction of lithium-ion cathode via convolutional neural network trained on scanning electron microscopy images. npj Comput Mater 10, 88 (2024). https://doi.org/10.1038/s41524-024-01279-6\n",
    "\n",
    "<img src=\"./img/image.png\" alt=\"メインイメージ\">"
   ]
  },
  {
   "cell_type": "markdown",
   "metadata": {},
   "source": [
    "### コードへの接続\n",
    "google colabにおけるオンラインの場合にこのラインを実行します。（<font color=\"red\">Google colabに接続しない場合には不要</font>）"
   ]
  },
  {
   "cell_type": "code",
   "execution_count": null,
   "metadata": {},
   "outputs": [],
   "source": [
    "!pip install efficientnet-pytorch\n",
    "!git clone https://github.com/ARIM-Usecase/Example_4.git\n",
    "%cd Example_4"
   ]
  },
  {
   "cell_type": "markdown",
   "metadata": {},
   "source": [
    "### ライブラリのインポート\n",
    "コード実行で必要なpythonのライブラリをimport文でロードします。"
   ]
  },
  {
   "cell_type": "code",
   "execution_count": 1,
   "metadata": {},
   "outputs": [
    {
     "name": "stderr",
     "output_type": "stream",
     "text": [
      "C:\\Users\\a013662\\AppData\\Roaming\\Python\\Python39\\site-packages\\pandas\\core\\computation\\expressions.py:21: UserWarning: Pandas requires version '2.8.4' or newer of 'numexpr' (version '2.8.3' currently installed).\n",
      "  from pandas.core.computation.check import NUMEXPR_INSTALLED\n",
      "C:\\Users\\a013662\\AppData\\Roaming\\Python\\Python39\\site-packages\\pandas\\core\\arrays\\masked.py:60: UserWarning: Pandas requires version '1.3.6' or newer of 'bottleneck' (version '1.3.5' currently installed).\n",
      "  from pandas.core import (\n"
     ]
    }
   ],
   "source": [
    "#I/Oライブラリ\n",
    "from tqdm import tqdm\n",
    "\n",
    "#汎用ライブラリ\n",
    "import numpy as np\n",
    "import pandas as pd\n",
    "import seaborn as sns\n",
    "import matplotlib.pyplot as plt\n",
    "\n",
    "#機械学習/深層学習ライブラリ\n",
    "import torch\n",
    "from torch.utils.data import DataLoader\n",
    "from efficientnet_pytorch import EfficientNet\n",
    "\n",
    "from sklearn.metrics import classification_report, confusion_matrix\n",
    "\n",
    "# utilモジュール\n",
    "from module.config import get_config\n",
    "from module.utils import load_test_dataset\n",
    "from module.utils import loss_fn\n",
    "from module.utils import optimize_fn"
   ]
  },
  {
   "cell_type": "markdown",
   "metadata": {},
   "source": [
    "### 画像初期設定"
   ]
  },
  {
   "cell_type": "markdown",
   "metadata": {},
   "source": [
    "### I/O初期設定"
   ]
  },
  {
   "cell_type": "code",
   "execution_count": 2,
   "metadata": {},
   "outputs": [
    {
     "name": "stdout",
     "output_type": "stream",
     "text": [
      "The data lies here => ./argmemtated_data/output\n"
     ]
    }
   ],
   "source": [
    "dataset_name = 'output'\n",
    "version = 'v1'\n",
    "config = get_config(dataset_name, version)\n",
    "save_name = dataset_name + '_' + version\n",
    "\n",
    "root_dir = config['data_dir']\n",
    "print(\"The data lies here =>\", root_dir)"
   ]
  },
  {
   "cell_type": "code",
   "execution_count": 3,
   "metadata": {},
   "outputs": [
    {
     "data": {
      "text/plain": [
       "<torch._C.Generator at 0x24b24c8d390>"
      ]
     },
     "execution_count": 3,
     "metadata": {},
     "output_type": "execute_result"
    }
   ],
   "source": [
    "seed = config['seed']\n",
    "np.random.seed(seed)\n",
    "torch.manual_seed(seed)"
   ]
  },
  {
   "cell_type": "markdown",
   "metadata": {},
   "source": [
    "### CPU/GPUチェッカー"
   ]
  },
  {
   "cell_type": "code",
   "execution_count": 4,
   "metadata": {},
   "outputs": [
    {
     "name": "stdout",
     "output_type": "stream",
     "text": [
      "We're using => cuda\n"
     ]
    }
   ],
   "source": [
    "device = torch.device(\"cuda\" if torch.cuda.is_available() else \"cpu\")\n",
    "print(\"We're using =>\", device)"
   ]
  },
  {
   "cell_type": "markdown",
   "metadata": {},
   "source": [
    "## CNNモデルによる予測"
   ]
  },
  {
   "cell_type": "markdown",
   "metadata": {},
   "source": [
    "### テストデータのロード"
   ]
  },
  {
   "cell_type": "code",
   "execution_count": 5,
   "metadata": {},
   "outputs": [],
   "source": [
    "test_set = load_test_dataset(config)\n",
    "test_loader = DataLoader(dataset=test_set, shuffle=False, batch_size=1)"
   ]
  },
  {
   "cell_type": "markdown",
   "metadata": {},
   "source": [
    "### モデル適合"
   ]
  },
  {
   "cell_type": "code",
   "execution_count": 6,
   "metadata": {},
   "outputs": [
    {
     "name": "stdout",
     "output_type": "stream",
     "text": [
      "Loaded pretrained weights for efficientnet-b7\n"
     ]
    }
   ],
   "source": [
    "if config['pretrained']:\n",
    "    model = EfficientNet.from_pretrained('efficientnet-b7', num_classes=12)  # Pre-trained\n",
    "else:\n",
    "    model = EfficientNet.from_name('efficientnet-b7', num_classes=12)  # from model"
   ]
  },
  {
   "cell_type": "markdown",
   "metadata": {},
   "source": [
    "### モデル（誤差関数、最適化）の設定"
   ]
  },
  {
   "cell_type": "code",
   "execution_count": 7,
   "metadata": {},
   "outputs": [],
   "source": [
    "model.to(device)\n",
    "\n",
    "#構築モデルの読み込み\n",
    "model.load_state_dict(torch.load(f'./{root_dir}/{save_name}.pth', map_location=device, weights_only=True)['model_state_dict'])\n",
    "\n",
    "criterion = loss_fn(config)\n",
    "optimizer = optimize_fn(config, model.parameters())"
   ]
  },
  {
   "cell_type": "code",
   "execution_count": 8,
   "metadata": {},
   "outputs": [
    {
     "name": "stderr",
     "output_type": "stream",
     "text": [
      "100%|██████████| 40/40 [00:27<00:00,  1.44it/s]\n"
     ]
    }
   ],
   "source": [
    "# Test\n",
    "with torch.no_grad():\n",
    "    model.eval()\n",
    "    result = list()\n",
    "    y_true = []\n",
    "    y_pred = []\n",
    "    \n",
    "    class_names = ['333', '333_cycled', '333_formation','523'] \n",
    "\n",
    "    for X_val_batch, y_val_batch, img_name in tqdm(test_loader):\n",
    "        inputs, labels = X_val_batch.to(device), y_val_batch.to(device)\n",
    "        optimizer.zero_grad()\n",
    "\n",
    "        outputs = model(inputs)\n",
    "        \n",
    "        _, preds = torch.max(outputs, 1)\n",
    "        preds = test_set.idx2class[int(preds.detach().cpu())]\n",
    "        labels = test_set.idx2class[int(labels.detach().cpu())]\n",
    "        result.append([img_name[0], preds, labels, preds==labels])\n",
    "\n",
    "        y_true.append(labels)\n",
    "        y_pred.append(preds)"
   ]
  },
  {
   "cell_type": "markdown",
   "metadata": {},
   "source": [
    "### 分類精度（混同行列）"
   ]
  },
  {
   "cell_type": "code",
   "execution_count": 9,
   "metadata": {},
   "outputs": [
    {
     "name": "stdout",
     "output_type": "stream",
     "text": [
      "Classification Report:\n",
      "               precision    recall  f1-score   support\n",
      "\n",
      "          333       1.00      1.00      1.00        10\n",
      "   333_cycled       1.00      1.00      1.00        10\n",
      "333_formation       1.00      1.00      1.00        10\n",
      "          523       1.00      1.00      1.00        10\n",
      "\n",
      "     accuracy                           1.00        40\n",
      "    macro avg       1.00      1.00      1.00        40\n",
      " weighted avg       1.00      1.00      1.00        40\n",
      "\n"
     ]
    }
   ],
   "source": [
    "    # Convert the lists to numpy arrays\n",
    "    y_true = np.array(y_true)\n",
    "    y_pred = np.array(y_pred)\n",
    "\n",
    "    # Generate classification report\n",
    "    report = classification_report(y_true, y_pred)\n",
    "    \n",
    "    print(\"Classification Report:\")\n",
    "    print(report)"
   ]
  },
  {
   "cell_type": "markdown",
   "metadata": {},
   "source": [
    "### 可視化（混同行列）"
   ]
  },
  {
   "cell_type": "code",
   "execution_count": 10,
   "metadata": {},
   "outputs": [],
   "source": [
    "plt.rcParams.update({\n",
    "    'font.family': 'sans-serif',  # font family\n",
    "    'font.size': 12,  # font size\n",
    "    'font.weight': 'normal',  # font weight\n",
    "    'axes.labelsize': 'large',  # label size\n",
    "    'axes.titlesize': 'x-large',  # title size\n",
    "    'xtick.labelsize': 'medium',  # x-axis tick label size\n",
    "    'ytick.labelsize': 'medium',  # y-axis tick label size\n",
    "    'legend.fontsize': 'medium',  # legend font size\n",
    "    'lines.linewidth': 2.0,  # line width\n",
    "    'figure.figsize': (4, 2),  # figure size in inches\n",
    "    'figure.dpi': 100,  # figure resolution\n",
    "    'savefig.dpi': 200,  # save figure resolution\n",
    "    'axes.grid': False,# grid on or off\n",
    "    'axes.linewidth':2.0,\n",
    "    'grid.alpha': 0.5,  # grid transparency\n",
    "    'grid.linestyle': '--',  # grid line style\n",
    "    'text.color': 'black',  # text color\n",
    "    'axes.facecolor': 'white',  # plot background color\n",
    "    'figure.facecolor': 'white',  # figure background color\n",
    "})"
   ]
  },
  {
   "cell_type": "code",
   "execution_count": 11,
   "metadata": {},
   "outputs": [
    {
     "data": {
      "image/png": "[encoded data removed]",
      "text/plain": [
       "<Figure size 800x600 with 1 Axes>"
      ]
     },
     "metadata": {},
     "output_type": "display_data"
    }
   ],
   "source": [
    "    # Generate confusion matrix\n",
    "    cm = confusion_matrix(y_true, y_pred)\n",
    "\n",
    "    # Plot confusion matrix\n",
    "    plt.figure(figsize=(8, 6))\n",
    "\n",
    "    sns.heatmap(cm, \n",
    "                annot=True, \n",
    "                fmt=\"d\", \n",
    "                cmap=\"Blues\", \n",
    "                cbar=False, \n",
    "                xticklabels=class_names, \n",
    "                yticklabels=class_names\n",
    "                )\n",
    "    \n",
    "    plt.title(\"Confusion Matrix\")\n",
    "    plt.xlabel(\"Predicted Labels\")\n",
    "    plt.ylabel(\"True Labels\")\n",
    "    plt.xticks(rotation=45)\n",
    "    \n",
    "    plt.show()\n"
   ]
  },
  {
   "cell_type": "markdown",
   "metadata": {},
   "source": [
    "### 結果出力"
   ]
  },
  {
   "cell_type": "code",
   "execution_count": 33,
   "metadata": {},
   "outputs": [
    {
     "name": "stdout",
     "output_type": "stream",
     "text": [
      "                                           Image Name     Prediction  \\\n",
      "1   333_x182y20_ETRI_ 20 kV_SE_HighVac_x500 __1269...            333   \n",
      "2   333_x222y258_ETRI_ 20 kV_SE_HighVac_x500 __127...            333   \n",
      "3   333_x265y256_ETRI_ 20 kV_SE_HighVac_x500 __115...            333   \n",
      "4   333_x276y108_ETRI_ 20 kV_SE_HighVac_x500 __128...            333   \n",
      "5   333_x31y281_ETRI_ 20 kV_SE_HighVac_x500 __1230...            333   \n",
      "6   333_x351y41_ETRI_ 20 kV_SE_HighVac_x500 __1188...            333   \n",
      "7   333_x367y214_ETRI_ 20 kV_SE_HighVac_x500 __123...            333   \n",
      "8   333_x38y315_ETRI_ 20 kV_SE_HighVac_x500 __1251...            333   \n",
      "9   333_x75y314_ETRI_ 20 kV_SE_HighVac_x500 __1269...            333   \n",
      "10  333_x81y208_ETRI_ 20 kV_SE_HighVac_x500 __1334...            333   \n",
      "11  333_cycled_x133y230_ETRI_ 20 kV_SE_HighVac_x50...     333_cycled   \n",
      "12  333_cycled_x177y233_ETRI_ 20 kV_SE_HighVac_x50...     333_cycled   \n",
      "13  333_cycled_x24y253_ETRI_ 20 kV_SE_HighVac_x500...     333_cycled   \n",
      "14  333_cycled_x461y246_ETRI_ 20 kV_SE_HighVac_x50...     333_cycled   \n",
      "15  333_cycled_x469y201_ETRI_ 20 kV_SE_HighVac_x50...     333_cycled   \n",
      "16  333_cycled_x509y156_ETRI_ 20 kV_SE_HighVac_x50...     333_cycled   \n",
      "17  333_cycled_x536y59_ETRI_ 20 kV_SE_HighVac_x500...     333_cycled   \n",
      "18  333_cycled_x558y139_ETRI_ 20 kV_SE_HighVac_x50...     333_cycled   \n",
      "19  333_cycled_x579y336_ETRI_ 20 kV_SE_HighVac_x50...     333_cycled   \n",
      "20  333_cycled_x616y155_ETRI_ 20 kV_SE_HighVac_x50...     333_cycled   \n",
      "21  333_formation_x114y289_ETRI_ 20 kV_SE_HighVac_...  333_formation   \n",
      "22  333_formation_x132y88_ETRI_ 20 kV_SE_HighVac_x...  333_formation   \n",
      "23  333_formation_x133y230_ETRI_ 20 kV_SE_HighVac_...  333_formation   \n",
      "24  333_formation_x143y112_ETRI_ 20 kV_SE_HighVac_...  333_formation   \n",
      "25  333_formation_x24y253_ETRI_ 20 kV_SE_HighVac_x...  333_formation   \n",
      "26  333_formation_x302y249_ETRI_ 20 kV_SE_HighVac_...  333_formation   \n",
      "27  333_formation_x509y156_ETRI_ 20 kV_SE_HighVac_...  333_formation   \n",
      "28  333_formation_x558y139_ETRI_ 20 kV_SE_HighVac_...  333_formation   \n",
      "29  333_formation_x616y155_ETRI_ 20 kV_SE_HighVac_...  333_formation   \n",
      "30  333_formation_x6y280_ETRI_ 20 kV_SE_HighVac_x5...  333_formation   \n",
      "31  523_x182y20_ETRI_ 20 kV_SE_HighVac_x500 __1452...            523   \n",
      "32  523_x222y258_ETRI_ 20 kV_SE_HighVac_x500 __145...            523   \n",
      "33  523_x265y256_ETRI_ 20 kV_SE_HighVac_x500 __141...            523   \n",
      "34  523_x276y108_ETRI_ 20 kV_SE_HighVac_x500 __146...            523   \n",
      "35  523_x31y281_ETRI_ 20 kV_SE_HighVac_x500 __1413...            523   \n",
      "36  523_x351y41_ETRI_ 20 kV_SE_HighVac_x500 __1371...            523   \n",
      "37  523_x367y214_ETRI_ 20 kV_SE_HighVac_x500 __150...            523   \n",
      "38  523_x38y315_ETRI_ 20 kV_SE_HighVac_x500 __1434...            523   \n",
      "39  523_x75y314_ETRI_ 20 kV_SE_HighVac_x500 __1452...            523   \n",
      "40  523_x81y208_ETRI_ 20 kV_SE_HighVac_x500 __1517...            523   \n",
      "\n",
      "            Label  Result  \n",
      "1             333    True  \n",
      "2             333    True  \n",
      "3             333    True  \n",
      "4             333    True  \n",
      "5             333    True  \n",
      "6             333    True  \n",
      "7             333    True  \n",
      "8             333    True  \n",
      "9             333    True  \n",
      "10            333    True  \n",
      "11     333_cycled    True  \n",
      "12     333_cycled    True  \n",
      "13     333_cycled    True  \n",
      "14     333_cycled    True  \n",
      "15     333_cycled    True  \n",
      "16     333_cycled    True  \n",
      "17     333_cycled    True  \n",
      "18     333_cycled    True  \n",
      "19     333_cycled    True  \n",
      "20     333_cycled    True  \n",
      "21  333_formation    True  \n",
      "22  333_formation    True  \n",
      "23  333_formation    True  \n",
      "24  333_formation    True  \n",
      "25  333_formation    True  \n",
      "26  333_formation    True  \n",
      "27  333_formation    True  \n",
      "28  333_formation    True  \n",
      "29  333_formation    True  \n",
      "30  333_formation    True  \n",
      "31            523    True  \n",
      "32            523    True  \n",
      "33            523    True  \n",
      "34            523    True  \n",
      "35            523    True  \n",
      "36            523    True  \n",
      "37            523    True  \n",
      "38            523    True  \n",
      "39            523    True  \n",
      "40            523    True  \n",
      "Result has been saved.\n"
     ]
    }
   ],
   "source": [
    "result = pd.DataFrame(result, columns=['Image Name', 'Prediction', 'Label', 'Result'])\n",
    "result.index += 1\n",
    "result.to_csv(f'./{root_dir}/{save_name}.csv')\n",
    "\n",
    "print(result)\n",
    "print('Result has been saved.')"
   ]
  },
  {
   "cell_type": "markdown",
   "metadata": {},
   "source": []
  }
 ],
 "metadata": {
  "kernelspec": {
   "display_name": "Python 3 (ipykernel)",
   "language": "python",
   "name": "python3"
  },
  "language_info": {
   "codemirror_mode": {
    "name": "ipython",
    "version": 3
   },
   "file_extension": ".py",
   "mimetype": "text/x-python",
   "name": "python",
   "nbconvert_exporter": "python",
   "pygments_lexer": "ipython3",
   "version": "3.9.15"
  }
 },
 "nbformat": 4,
 "nbformat_minor": 4
}
