{
 "cells": [
  {
   "cell_type": "markdown",
   "metadata": {},
   "source": [
    "# ARIM-Academy：　機器データ利活用ユースケース（１）\n",
    "### 機器：走査電子顕微鏡（SEM）\n",
    "### 分析：CNNによる画像識別　（データ増幅編）"
   ]
  },
  {
   "cell_type": "markdown",
   "metadata": {},
   "source": [
    "## データセット\n",
    "\n",
    "**『LIBカソード電極のSEMデータセット』**は、さまざまなLi（Ni、Co、Mn）O 2（NCM）カソードの主な組成（例：333、523、622、および811）とさまざまな状態（例：初期、サイクル前、および100回サイクル）を分類する予測モデルを開発を目的に集められた走査電子顕微鏡（SEM）画像です。\n",
    "\n",
    "[1] Oh, J., Yeom, J., Madika, B. et al. Composition and state prediction of lithium-ion cathode via convolutional neural network trained on scanning electron microscopy images. npj Comput Mater 10, 88 (2024). https://doi.org/10.1038/s41524-024-01279-6\n",
    "\n",
    "<img src=\"./img/image.png\" alt=\"メインイメージ\">"
   ]
  },
  {
   "cell_type": "markdown",
   "metadata": {},
   "source": [
    "### コードへの接続\n",
    "google colabにおけるオンラインの場合にこのラインを実行します。（<font color=\"red\">Google colabに接続しない場合には不要</font>）"
   ]
  },
  {
   "cell_type": "code",
   "execution_count": null,
   "metadata": {},
   "outputs": [],
   "source": [
    "!git clone https://github.com/ARIM-Usecase/Example_4.git\n",
    "%cd Example_4/code"
   ]
  },
  {
   "cell_type": "markdown",
   "metadata": {},
   "source": [
    "### ライブラリのインポート\n",
    "コード実行で必要なpythonのライブラリをimport文でロードします。"
   ]
  },
  {
   "cell_type": "code",
   "execution_count": 8,
   "metadata": {},
   "outputs": [],
   "source": [
    "# I/Oライブラリ\n",
    "import os\n",
    "import random\n",
    "import sys\n",
    "\n",
    "# 汎用イブラリ\n",
    "from PIL import Image"
   ]
  },
  {
   "cell_type": "markdown",
   "metadata": {},
   "source": [
    "### データアーギュメント（データ増幅化）"
   ]
  },
  {
   "cell_type": "code",
   "execution_count": 9,
   "metadata": {},
   "outputs": [],
   "source": [
    "# Directory function\n",
    "def make_dir(path):\n",
    "    if not os.path.exists(path):\n",
    "        os.makedirs(path)\n",
    "    return path"
   ]
  },
  {
   "cell_type": "code",
   "execution_count": 10,
   "metadata": {},
   "outputs": [],
   "source": [
    "# Function to generate images\n",
    "def generate_imgs(label, imgs, size, pixel=True, path=None, verbose=False):\n",
    "    if len(imgs) == 0:  # Check if the image list is empty\n",
    "        print(f\"No images found for {label}. Skipping...\")\n",
    "        return\n",
    "\n",
    "    if pixel == True and verbose:\n",
    "        print('Generated image size will be half of source image size.')\n",
    "\n",
    "    save_path = make_dir(os.path.join(path))\n",
    "\n",
    "    for _ in range(size):\n",
    "        file_num = random.randint(0, len(imgs) - 1)\n",
    "        img_name, img_format = os.path.splitext(imgs[file_num])\n",
    "\n",
    "        image = Image.open(os.path.join('data', label, imgs[file_num]))\n",
    "\n",
    "        if pixel == 'full':\n",
    "            generated_img_name = f'{label}_full_{img_name}{img_format}'\n",
    "\n",
    "            # y-axis > 895 pixel for removing information of SEM images\n",
    "            image.crop((0, 0, image.size[0], image.size[1] - 65)).save(os.path.join(save_path, generated_img_name))\n",
    "\n",
    "        else:\n",
    "            # Set the size of generated images\n",
    "            pixels = [int(image.size[0] / 2), int(image.size[1] / 2)] if pixel == True else [int(pixel), int(pixel)]  # [size, size] / square shape\n",
    "\n",
    "            if image.size[0] - pixels[0] < 0 and image.size[1] - pixels[1] < 0:\n",
    "                print('Cropped images must be smaller than full-sized images.')\n",
    "                sys.exit(1)\n",
    "\n",
    "            # Generate random upper-left coordinate\n",
    "            x_coord, y_coord = random.randint(0, image.size[0] - pixels[0]), random.randint(0, image.size[1] - pixels[1] - 65)\n",
    "\n",
    "            # Cropping\n",
    "            generated_img_name = f'{label}_x{x_coord}y{y_coord}_{img_name}{img_format}'\n",
    "            image.crop((x_coord, y_coord, x_coord + pixels[0], y_coord + pixels[1])).save(os.path.join(save_path, generated_img_name))\n",
    "\n",
    "    if verbose:\n",
    "        print(f'Saved path: {path}')"
   ]
  },
  {
   "cell_type": "markdown",
   "metadata": {},
   "source": [
    "### 初期設定"
   ]
  },
  {
   "cell_type": "code",
   "execution_count": 11,
   "metadata": {},
   "outputs": [],
   "source": [
    "# Variables\n",
    "path = 'data'  # Set the folder path (data folder is at the same level as the notebook)\n",
    "size = 100  # Set the desired dataset size\n",
    "pixel = True  # Set pixel size for generated images\n",
    "test_ratio = 10  # Ratio for test dataset\n",
    "validation_ratio = 20  # Ratio for validation dataset\n",
    "name = None  # Dataset name\n",
    "seed = 1345879  # Seed for reproducibility\n",
    "verbose = True  # Set verbosity"
   ]
  },
  {
   "cell_type": "markdown",
   "metadata": {},
   "source": [
    "### ファイル操作"
   ]
  },
  {
   "cell_type": "code",
   "execution_count": 12,
   "metadata": {},
   "outputs": [],
   "source": [
    "# Step 1: Prepare paths and labels\n",
    "full_path = os.path.join('./', path)\n",
    "labels = [label for label in os.listdir(full_path) if os.path.isdir(os.path.join(full_path, label))]"
   ]
  },
  {
   "cell_type": "code",
   "execution_count": 13,
   "metadata": {},
   "outputs": [],
   "source": [
    "# Step 2: Determine save path\n",
    "if name:\n",
    "    save_path = os.path.join('./data', name)\n",
    "else:\n",
    "    p = pixel if pixel != True else 'Half'\n",
    "    save_path = os.path.join(f'./data/size{size}_pixel{p}')"
   ]
  },
  {
   "cell_type": "code",
   "execution_count": 15,
   "metadata": {},
   "outputs": [
    {
     "name": "stdout",
     "output_type": "stream",
     "text": [
      "Number of images in 333 folder: 183\n",
      "Number of training 333 images: 132\n",
      "Number of validation 333 images: 33\n",
      "Number of test 333 images: 18\n",
      "Generated image size will be half of source image size.\n",
      "Saved path: ./data/size100_pixelHalf\\test\\333\n",
      "Generated image size will be half of source image size.\n",
      "Saved path: ./data/size100_pixelHalf\\train\\333\n",
      "Generated image size will be half of source image size.\n",
      "Saved path: ./data/size100_pixelHalf\\validate\\333\n",
      "Number of images in 333_cycled folder: 82\n",
      "Number of training 333_cycled images: 59\n",
      "Number of validation 333_cycled images: 15\n",
      "Number of test 333_cycled images: 8\n",
      "Generated image size will be half of source image size.\n",
      "Saved path: ./data/size100_pixelHalf\\test\\333_cycled\n",
      "Generated image size will be half of source image size.\n",
      "Saved path: ./data/size100_pixelHalf\\train\\333_cycled\n",
      "Generated image size will be half of source image size.\n"
     ]
    },
    {
     "ename": "FileNotFoundError",
     "evalue": "[Errno 2] No such file or directory: './data/size100_pixelHalf\\\\validate\\\\333_cycled\\\\333_cycled_x265y358_ETRI_ 20 kV_SE_HighVac_x500 __573.jpg'",
     "output_type": "error",
     "traceback": [
      "\u001b[1;31m---------------------------------------------------------------------------\u001b[0m",
      "\u001b[1;31mFileNotFoundError\u001b[0m                         Traceback (most recent call last)",
      "\u001b[1;32m~\\AppData\\Local\\Temp\\ipykernel_45080\\3250404668.py\u001b[0m in \u001b[0;36m<module>\u001b[1;34m\u001b[0m\n\u001b[0;32m     51\u001b[0m \u001b[1;33m\u001b[0m\u001b[0m\n\u001b[0;32m     52\u001b[0m         \u001b[1;31m# Step 10: Generate validation images\u001b[0m\u001b[1;33m\u001b[0m\u001b[1;33m\u001b[0m\u001b[0m\n\u001b[1;32m---> 53\u001b[1;33m         generate_imgs(label, validate_imgs, int(size * validation_ratio / 100),\n\u001b[0m\u001b[0;32m     54\u001b[0m                       pixel=pixel, path=os.path.join(save_path, 'validate', label), verbose=verbose)\n\u001b[0;32m     55\u001b[0m \u001b[1;33m\u001b[0m\u001b[0m\n",
      "\u001b[1;32m~\\AppData\\Local\\Temp\\ipykernel_45080\\98506687.py\u001b[0m in \u001b[0;36mgenerate_imgs\u001b[1;34m(label, imgs, size, pixel, path, verbose)\u001b[0m\n\u001b[0;32m     35\u001b[0m             \u001b[1;31m# Cropping\u001b[0m\u001b[1;33m\u001b[0m\u001b[1;33m\u001b[0m\u001b[0m\n\u001b[0;32m     36\u001b[0m             \u001b[0mgenerated_img_name\u001b[0m \u001b[1;33m=\u001b[0m \u001b[1;34mf'{label}_x{x_coord}y{y_coord}_{img_name}{img_format}'\u001b[0m\u001b[1;33m\u001b[0m\u001b[1;33m\u001b[0m\u001b[0m\n\u001b[1;32m---> 37\u001b[1;33m             \u001b[0mimage\u001b[0m\u001b[1;33m.\u001b[0m\u001b[0mcrop\u001b[0m\u001b[1;33m(\u001b[0m\u001b[1;33m(\u001b[0m\u001b[0mx_coord\u001b[0m\u001b[1;33m,\u001b[0m \u001b[0my_coord\u001b[0m\u001b[1;33m,\u001b[0m \u001b[0mx_coord\u001b[0m \u001b[1;33m+\u001b[0m \u001b[0mpixels\u001b[0m\u001b[1;33m[\u001b[0m\u001b[1;36m0\u001b[0m\u001b[1;33m]\u001b[0m\u001b[1;33m,\u001b[0m \u001b[0my_coord\u001b[0m \u001b[1;33m+\u001b[0m \u001b[0mpixels\u001b[0m\u001b[1;33m[\u001b[0m\u001b[1;36m1\u001b[0m\u001b[1;33m]\u001b[0m\u001b[1;33m)\u001b[0m\u001b[1;33m)\u001b[0m\u001b[1;33m.\u001b[0m\u001b[0msave\u001b[0m\u001b[1;33m(\u001b[0m\u001b[0mos\u001b[0m\u001b[1;33m.\u001b[0m\u001b[0mpath\u001b[0m\u001b[1;33m.\u001b[0m\u001b[0mjoin\u001b[0m\u001b[1;33m(\u001b[0m\u001b[0msave_path\u001b[0m\u001b[1;33m,\u001b[0m \u001b[0mgenerated_img_name\u001b[0m\u001b[1;33m)\u001b[0m\u001b[1;33m)\u001b[0m\u001b[1;33m\u001b[0m\u001b[1;33m\u001b[0m\u001b[0m\n\u001b[0m\u001b[0;32m     38\u001b[0m \u001b[1;33m\u001b[0m\u001b[0m\n\u001b[0;32m     39\u001b[0m     \u001b[1;32mif\u001b[0m \u001b[0mverbose\u001b[0m\u001b[1;33m:\u001b[0m\u001b[1;33m\u001b[0m\u001b[1;33m\u001b[0m\u001b[0m\n",
      "\u001b[1;32m~\\Anaconda3\\envs\\ARIM\\lib\\site-packages\\PIL\\Image.py\u001b[0m in \u001b[0;36msave\u001b[1;34m(self, fp, format, **params)\u001b[0m\n\u001b[0;32m   2315\u001b[0m                 \u001b[0mfp\u001b[0m \u001b[1;33m=\u001b[0m \u001b[0mbuiltins\u001b[0m\u001b[1;33m.\u001b[0m\u001b[0mopen\u001b[0m\u001b[1;33m(\u001b[0m\u001b[0mfilename\u001b[0m\u001b[1;33m,\u001b[0m \u001b[1;34m\"r+b\"\u001b[0m\u001b[1;33m)\u001b[0m\u001b[1;33m\u001b[0m\u001b[1;33m\u001b[0m\u001b[0m\n\u001b[0;32m   2316\u001b[0m             \u001b[1;32melse\u001b[0m\u001b[1;33m:\u001b[0m\u001b[1;33m\u001b[0m\u001b[1;33m\u001b[0m\u001b[0m\n\u001b[1;32m-> 2317\u001b[1;33m                 \u001b[0mfp\u001b[0m \u001b[1;33m=\u001b[0m \u001b[0mbuiltins\u001b[0m\u001b[1;33m.\u001b[0m\u001b[0mopen\u001b[0m\u001b[1;33m(\u001b[0m\u001b[0mfilename\u001b[0m\u001b[1;33m,\u001b[0m \u001b[1;34m\"w+b\"\u001b[0m\u001b[1;33m)\u001b[0m\u001b[1;33m\u001b[0m\u001b[1;33m\u001b[0m\u001b[0m\n\u001b[0m\u001b[0;32m   2318\u001b[0m \u001b[1;33m\u001b[0m\u001b[0m\n\u001b[0;32m   2319\u001b[0m         \u001b[1;32mtry\u001b[0m\u001b[1;33m:\u001b[0m\u001b[1;33m\u001b[0m\u001b[1;33m\u001b[0m\u001b[0m\n",
      "\u001b[1;31mFileNotFoundError\u001b[0m: [Errno 2] No such file or directory: './data/size100_pixelHalf\\\\validate\\\\333_cycled\\\\333_cycled_x265y358_ETRI_ 20 kV_SE_HighVac_x500 __573.jpg'"
     ]
    }
   ],
   "source": [
    "# Step 3: Process each label\n",
    "for label in labels:\n",
    "    # Get image file list (change 'jpg' extension if needed)\n",
    "    imgs = [f for f in os.listdir(os.path.join(full_path, label)) if f[-3:] == 'jpg' and f[0] != '.']\n",
    "    num_imgs = len(imgs)\n",
    "\n",
    "    if verbose:\n",
    "        print(f'Number of images in {label} folder: {num_imgs}')\n",
    "\n",
    "    # Step 4: Split the dataset into train, validation, and test sets\n",
    "    num_test = int(round(test_ratio / 100 * num_imgs, 0))\n",
    "    num_imgs -= num_test\n",
    "    num_validate = int(round(validation_ratio / 100 * num_imgs, 0))\n",
    "    num_train = num_imgs - num_validate\n",
    "\n",
    "    if verbose:\n",
    "        print(f'Number of training {label} images: {num_train}')\n",
    "        print(f'Number of validation {label} images: {num_validate}')\n",
    "        print(f'Number of test {label} images: {num_test}')\n",
    "\n",
    "    # Step 5: Generate full images if size == 0\n",
    "    if size == 0:\n",
    "        generate_imgs(label, imgs, len(imgs), pixel='full', path=os.path.join(full_path, 'test_full'))\n",
    "\n",
    "    else:\n",
    "        # Seed for randomness consistency\n",
    "        random.seed(seed)\n",
    "\n",
    "        # Step 6: Randomly select test images\n",
    "        test_imgs = []\n",
    "        for _ in range(num_test):\n",
    "            if len(imgs) > 0:\n",
    "                test_imgs.append(imgs.pop(random.randint(0, len(imgs) - 1)))\n",
    "\n",
    "        # Step 7: Randomly select validation images\n",
    "        validate_imgs = []\n",
    "        for _ in range(num_validate):\n",
    "            if len(imgs) > 0:\n",
    "                validate_imgs.append(imgs.pop(random.randint(0, len(imgs) - 1)))\n",
    "\n",
    "        # Remaining images are for training\n",
    "        training_imgs = imgs\n",
    "\n",
    "        # Step 8: Generate test images\n",
    "        generate_imgs(label, test_imgs, size=int(size * test_ratio / 100),\n",
    "                      pixel=pixel, path=os.path.join(save_path, 'test', label), verbose=verbose)\n",
    "\n",
    "        # Step 9: Generate training images\n",
    "        generate_imgs(label, training_imgs, int(size * (1 - validation_ratio / 100)),\n",
    "                      pixel=pixel, path=os.path.join(save_path, 'train', label), verbose=verbose)\n",
    "\n",
    "        # Step 10: Generate validation images\n",
    "        generate_imgs(label, validate_imgs, int(size * validation_ratio / 100),\n",
    "                      pixel=pixel, path=os.path.join(save_path, 'validate', label), verbose=verbose)\n",
    "\n",
    "if verbose:\n",
    "    print('Done!')"
   ]
  },
  {
   "cell_type": "code",
   "execution_count": null,
   "metadata": {},
   "outputs": [],
   "source": []
  },
  {
   "cell_type": "code",
   "execution_count": null,
   "metadata": {},
   "outputs": [],
   "source": []
  }
 ],
 "metadata": {
  "kernelspec": {
   "display_name": "Python 3 (ipykernel)",
   "language": "python",
   "name": "python3"
  },
  "language_info": {
   "codemirror_mode": {
    "name": "ipython",
    "version": 3
   },
   "file_extension": ".py",
   "mimetype": "text/x-python",
   "name": "python",
   "nbconvert_exporter": "python",
   "pygments_lexer": "ipython3",
   "version": "3.9.15"
  }
 },
 "nbformat": 4,
 "nbformat_minor": 2
}
