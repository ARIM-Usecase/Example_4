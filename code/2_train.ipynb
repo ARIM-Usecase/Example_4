{
 "cells": [
  {
   "cell_type": "markdown",
   "metadata": {},
   "source": [
    "# ARIM-Academy：　機器データ利活用ユースケース（2）\n",
    "### 機器：走査電子顕微鏡（SEM）\n",
    "### 分析：CNNによる画像識別　（学習編）"
   ]
  },
  {
   "cell_type": "markdown",
   "metadata": {},
   "source": [
    "## データセット\n",
    "\n",
    "**『LIBカソード電極のSEMデータセット』**は、さまざまなLi（Ni、Co、Mn）O 2（NCM）カソードの主な組成（例：333、523、622、および811）とさまざまな状態（例：初期、サイクル前、および100回サイクル）を分類する予測モデルを開発を目的に集められた走査電子顕微鏡（SEM）画像です。\n",
    "\n",
    "[1] Oh, J., Yeom, J., Madika, B. et al. Composition and state prediction of lithium-ion cathode via convolutional neural network trained on scanning electron microscopy images. npj Comput Mater 10, 88 (2024). https://doi.org/10.1038/s41524-024-01279-6\n",
    "\n",
    "<img src=\"./img/image.png\" alt=\"メインイメージ\">"
   ]
  },
  {
   "cell_type": "markdown",
   "metadata": {},
   "source": [
    "### コードへの接続\n",
    "google colabにおけるオンラインの場合にこのラインを実行します。（<font color=\"red\">Google colabに接続しない場合には不要</font>）"
   ]
  },
  {
   "cell_type": "code",
   "execution_count": null,
   "metadata": {},
   "outputs": [],
   "source": [
    "!git clone https://github.com/ARIM-Usecase/Example_4.git\n",
    "%cd Example_4"
   ]
  },
  {
   "cell_type": "markdown",
   "metadata": {},
   "source": [
    "### ライブラリのインポート\n",
    "コード実行で必要なpythonのライブラリをimport文でロードします。"
   ]
  },
  {
   "cell_type": "code",
   "execution_count": 1,
   "metadata": {},
   "outputs": [],
   "source": [
    "#I/Oライブラリ\n",
    "from tqdm import tqdm\n",
    "import os\n",
    "\n",
    "#汎用ライブラリ\n",
    "import numpy as np\n",
    "import pandas as pd\n",
    "import seaborn as sns\n",
    "import matplotlib.pyplot as plt\n",
    "\n",
    "#機械学習/深層学習ライブラリ\n",
    "import torch\n",
    "from torch.utils.data import DataLoader\n",
    "from efficientnet_pytorch import EfficientNet\n",
    "\n",
    "# utilモジュール\n",
    "from module.config import get_config\n",
    "from module.utils import load_datasets\n",
    "from module.utils import loss_fn\n",
    "from module.utils import optimize_fn"
   ]
  },
  {
   "cell_type": "code",
   "execution_count": 2,
   "metadata": {},
   "outputs": [],
   "source": [
    "\n",
    "os.environ['KMP_DUPLICATE_LIB_OK'] = 'TRUE'"
   ]
  },
  {
   "cell_type": "markdown",
   "metadata": {},
   "source": [
    "### 初期設定"
   ]
  },
  {
   "cell_type": "code",
   "execution_count": 3,
   "metadata": {},
   "outputs": [],
   "source": [
    "dataset_name = 'example'\n",
    "version = 'v1'\n",
    "config = get_config(dataset_name, version)\n",
    "save_name = dataset_name + '_' + version"
   ]
  },
  {
   "cell_type": "code",
   "execution_count": 4,
   "metadata": {},
   "outputs": [
    {
     "data": {
      "text/plain": [
       "<torch._C.Generator at 0x247503c2690>"
      ]
     },
     "execution_count": 4,
     "metadata": {},
     "output_type": "execute_result"
    }
   ],
   "source": [
    "seed = config['seed']\n",
    "np.random.seed(seed)\n",
    "torch.manual_seed(seed)"
   ]
  },
  {
   "cell_type": "code",
   "execution_count": 5,
   "metadata": {},
   "outputs": [
    {
     "name": "stdout",
     "output_type": "stream",
     "text": [
      "We're using => cuda\n"
     ]
    }
   ],
   "source": [
    "device = torch.device(\"cuda\" if torch.cuda.is_available() else \"cpu\")\n",
    "print(\"We're using =>\", device)"
   ]
  },
  {
   "cell_type": "code",
   "execution_count": 6,
   "metadata": {},
   "outputs": [
    {
     "name": "stdout",
     "output_type": "stream",
     "text": [
      "The data lies here => ./data/example\n"
     ]
    }
   ],
   "source": [
    "root_dir = config['data_dir']\n",
    "print(\"The data lies here =>\", root_dir)"
   ]
  },
  {
   "cell_type": "markdown",
   "metadata": {},
   "source": [
    "## CNNモデルの構築"
   ]
  },
  {
   "cell_type": "markdown",
   "metadata": {},
   "source": [
    "### データセットの分割（Data set splitting）\n",
    "データセットの分割（Data set splitting）は、機械学習モデルの訓練と評価のために、データセットを訓練データとテストデータに分けるプロセスを指します。モデルがテストデータに対してどれくらい正確に予測できるかを評価することで、モデルの汎化能力や性能を測定します。"
   ]
  },
  {
   "cell_type": "code",
   "execution_count": 7,
   "metadata": {},
   "outputs": [],
   "source": [
    "train_set, validate_set = load_datasets(config)\n",
    "\n",
    "train_loader = DataLoader(dataset=train_set, shuffle=True, batch_size=config['batch_size'])\n",
    "val_loader = DataLoader(dataset=validate_set, shuffle=False, batch_size=config['batch_size'])"
   ]
  },
  {
   "cell_type": "markdown",
   "metadata": {},
   "source": [
    "### モデル構築"
   ]
  },
  {
   "cell_type": "code",
   "execution_count": 8,
   "metadata": {},
   "outputs": [
    {
     "name": "stdout",
     "output_type": "stream",
     "text": [
      "Loaded pretrained weights for efficientnet-b7\n"
     ]
    }
   ],
   "source": [
    "if config['pretrained']:\n",
    "    model = EfficientNet.from_pretrained('efficientnet-b7', num_classes=12)  # Pre-trained\n",
    "else:\n",
    "    model = EfficientNet.from_name('efficientnet-b7', num_classes=12)  # from model"
   ]
  },
  {
   "cell_type": "code",
   "execution_count": 9,
   "metadata": {},
   "outputs": [],
   "source": [
    "model.to(device)\n",
    "\n",
    "criterion = loss_fn(config)\n",
    "optimizer = optimize_fn(config, model.parameters())"
   ]
  },
  {
   "cell_type": "code",
   "execution_count": 10,
   "metadata": {},
   "outputs": [
    {
     "name": "stdout",
     "output_type": "stream",
     "text": [
      "Begin training.\n"
     ]
    }
   ],
   "source": [
    "accuracy_stats = {\n",
    "    \"train\": [],\n",
    "    \"val\": []\n",
    "}\n",
    "loss_stats = {\n",
    "    \"train\": [],\n",
    "    \"val\": []\n",
    "}\n",
    "\n",
    "print(\"Begin training.\")\n",
    "acc_train = 0"
   ]
  },
  {
   "cell_type": "markdown",
   "metadata": {},
   "source": [
    "### 訓練と検証の最適化\n",
    "GPUで約20分の計算時間です。CPUの場合には約10時間近くとなります。epochの回数を50回から10回へ変更するなどでトライアルしてみてください。\n",
    "\n",
    "（config.pyのdef gen_default()の引数にあるepoch=50をepoch=10とする）"
   ]
  },
  {
   "cell_type": "code",
   "execution_count": 11,
   "metadata": {},
   "outputs": [
    {
     "name": "stdout",
     "output_type": "stream",
     "text": [
      "Wall time: 0 ns\n"
     ]
    },
    {
     "name": "stderr",
     "output_type": "stream",
     "text": [
      "100%|██████████| 80/80 [00:20<00:00,  3.85it/s]\n",
      "100%|██████████| 20/20 [00:01<00:00, 12.83it/s]\n"
     ]
    },
    {
     "name": "stdout",
     "output_type": "stream",
     "text": [
      "\n",
      " Epoch 01: | Train Loss: 1.09779 | Val Loss: 1.40264 | Train Acc: 68.125| Val Acc: 36.250\n",
      "Accuracy improved from 0 to 68.125. Model saved.\n"
     ]
    },
    {
     "name": "stderr",
     "output_type": "stream",
     "text": [
      "100%|██████████| 80/80 [00:20<00:00,  3.93it/s]\n",
      "100%|██████████| 20/20 [00:01<00:00, 12.90it/s]\n"
     ]
    },
    {
     "name": "stdout",
     "output_type": "stream",
     "text": [
      "\n",
      " Epoch 02: | Train Loss: 0.65765 | Val Loss: 1.57091 | Train Acc: 80.000| Val Acc: 50.000\n",
      "Accuracy improved from 68.125 to 80.0. Model saved.\n"
     ]
    },
    {
     "name": "stderr",
     "output_type": "stream",
     "text": [
      "100%|██████████| 80/80 [00:20<00:00,  3.89it/s]\n",
      "100%|██████████| 20/20 [00:01<00:00, 12.62it/s]\n"
     ]
    },
    {
     "name": "stdout",
     "output_type": "stream",
     "text": [
      "\n",
      " Epoch 03: | Train Loss: 0.52278 | Val Loss: 2.64195 | Train Acc: 81.875| Val Acc: 26.250\n",
      "Accuracy improved from 80.0 to 81.875. Model saved.\n"
     ]
    },
    {
     "name": "stderr",
     "output_type": "stream",
     "text": [
      "100%|██████████| 80/80 [00:20<00:00,  3.87it/s]\n",
      "100%|██████████| 20/20 [00:01<00:00, 12.71it/s]\n"
     ]
    },
    {
     "name": "stdout",
     "output_type": "stream",
     "text": [
      "\n",
      " Epoch 04: | Train Loss: 0.29837 | Val Loss: 3.79314 | Train Acc: 91.250| Val Acc: 37.500\n",
      "Accuracy improved from 81.875 to 91.25. Model saved.\n"
     ]
    },
    {
     "name": "stderr",
     "output_type": "stream",
     "text": [
      "100%|██████████| 80/80 [00:20<00:00,  3.85it/s]\n",
      "100%|██████████| 20/20 [00:01<00:00, 12.94it/s]\n"
     ]
    },
    {
     "name": "stdout",
     "output_type": "stream",
     "text": [
      "\n",
      " Epoch 05: | Train Loss: 0.30499 | Val Loss: 0.97512 | Train Acc: 88.750| Val Acc: 51.250\n"
     ]
    },
    {
     "name": "stderr",
     "output_type": "stream",
     "text": [
      "100%|██████████| 80/80 [00:20<00:00,  3.91it/s]\n",
      "100%|██████████| 20/20 [00:01<00:00, 12.90it/s]\n"
     ]
    },
    {
     "name": "stdout",
     "output_type": "stream",
     "text": [
      "\n",
      " Epoch 06: | Train Loss: 0.18615 | Val Loss: 0.51903 | Train Acc: 94.375| Val Acc: 78.750\n",
      "Accuracy improved from 91.25 to 94.375. Model saved.\n"
     ]
    },
    {
     "name": "stderr",
     "output_type": "stream",
     "text": [
      "100%|██████████| 80/80 [00:20<00:00,  3.94it/s]\n",
      "100%|██████████| 20/20 [00:01<00:00, 12.79it/s]\n"
     ]
    },
    {
     "name": "stdout",
     "output_type": "stream",
     "text": [
      "\n",
      " Epoch 07: | Train Loss: 0.18137 | Val Loss: 2.45501 | Train Acc: 94.688| Val Acc: 60.000\n",
      "Accuracy improved from 94.375 to 94.6875. Model saved.\n"
     ]
    },
    {
     "name": "stderr",
     "output_type": "stream",
     "text": [
      "100%|██████████| 80/80 [00:20<00:00,  3.90it/s]\n",
      "100%|██████████| 20/20 [00:01<00:00, 12.55it/s]\n"
     ]
    },
    {
     "name": "stdout",
     "output_type": "stream",
     "text": [
      "\n",
      " Epoch 08: | Train Loss: 0.18258 | Val Loss: 0.13158 | Train Acc: 94.062| Val Acc: 96.250\n"
     ]
    },
    {
     "name": "stderr",
     "output_type": "stream",
     "text": [
      "100%|██████████| 80/80 [00:20<00:00,  3.93it/s]\n",
      "100%|██████████| 20/20 [00:01<00:00, 12.92it/s]\n"
     ]
    },
    {
     "name": "stdout",
     "output_type": "stream",
     "text": [
      "\n",
      " Epoch 09: | Train Loss: 0.27260 | Val Loss: 0.50280 | Train Acc: 92.188| Val Acc: 80.000\n"
     ]
    },
    {
     "name": "stderr",
     "output_type": "stream",
     "text": [
      "100%|██████████| 80/80 [00:20<00:00,  3.88it/s]\n",
      "100%|██████████| 20/20 [00:01<00:00, 12.68it/s]\n"
     ]
    },
    {
     "name": "stdout",
     "output_type": "stream",
     "text": [
      "\n",
      " Epoch 10: | Train Loss: 0.15998 | Val Loss: 0.02744 | Train Acc: 94.062| Val Acc: 100.000\n"
     ]
    },
    {
     "name": "stderr",
     "output_type": "stream",
     "text": [
      "100%|██████████| 80/80 [00:20<00:00,  3.85it/s]\n",
      "100%|██████████| 20/20 [00:01<00:00, 12.46it/s]\n"
     ]
    },
    {
     "name": "stdout",
     "output_type": "stream",
     "text": [
      "\n",
      " Epoch 11: | Train Loss: 0.06404 | Val Loss: 0.06980 | Train Acc: 98.438| Val Acc: 97.500\n",
      "Accuracy improved from 94.6875 to 98.4375. Model saved.\n"
     ]
    },
    {
     "name": "stderr",
     "output_type": "stream",
     "text": [
      "100%|██████████| 80/80 [00:20<00:00,  3.86it/s]\n",
      "100%|██████████| 20/20 [00:01<00:00, 12.71it/s]\n"
     ]
    },
    {
     "name": "stdout",
     "output_type": "stream",
     "text": [
      "\n",
      " Epoch 12: | Train Loss: 0.06539 | Val Loss: 0.01675 | Train Acc: 98.750| Val Acc: 100.000\n",
      "Accuracy improved from 98.4375 to 98.75. Model saved.\n"
     ]
    },
    {
     "name": "stderr",
     "output_type": "stream",
     "text": [
      "100%|██████████| 80/80 [00:20<00:00,  3.86it/s]\n",
      "100%|██████████| 20/20 [00:01<00:00, 12.57it/s]\n"
     ]
    },
    {
     "name": "stdout",
     "output_type": "stream",
     "text": [
      "\n",
      " Epoch 13: | Train Loss: 0.26818 | Val Loss: 0.03199 | Train Acc: 93.438| Val Acc: 98.750\n"
     ]
    },
    {
     "name": "stderr",
     "output_type": "stream",
     "text": [
      "100%|██████████| 80/80 [00:20<00:00,  3.88it/s]\n",
      "100%|██████████| 20/20 [00:01<00:00, 12.56it/s]\n"
     ]
    },
    {
     "name": "stdout",
     "output_type": "stream",
     "text": [
      "\n",
      " Epoch 14: | Train Loss: 0.16247 | Val Loss: 0.15864 | Train Acc: 95.312| Val Acc: 95.000\n"
     ]
    },
    {
     "name": "stderr",
     "output_type": "stream",
     "text": [
      "100%|██████████| 80/80 [00:20<00:00,  3.83it/s]\n",
      "100%|██████████| 20/20 [00:01<00:00, 12.36it/s]\n"
     ]
    },
    {
     "name": "stdout",
     "output_type": "stream",
     "text": [
      "\n",
      " Epoch 15: | Train Loss: 0.11611 | Val Loss: 0.03812 | Train Acc: 97.500| Val Acc: 98.750\n"
     ]
    },
    {
     "name": "stderr",
     "output_type": "stream",
     "text": [
      "100%|██████████| 80/80 [00:21<00:00,  3.65it/s]\n",
      "100%|██████████| 20/20 [00:01<00:00, 11.66it/s]\n"
     ]
    },
    {
     "name": "stdout",
     "output_type": "stream",
     "text": [
      "\n",
      " Epoch 16: | Train Loss: 0.06940 | Val Loss: 0.01294 | Train Acc: 98.750| Val Acc: 100.000\n"
     ]
    },
    {
     "name": "stderr",
     "output_type": "stream",
     "text": [
      "100%|██████████| 80/80 [00:20<00:00,  3.84it/s]\n",
      "100%|██████████| 20/20 [00:01<00:00, 12.45it/s]\n"
     ]
    },
    {
     "name": "stdout",
     "output_type": "stream",
     "text": [
      "\n",
      " Epoch 17: | Train Loss: 0.17028 | Val Loss: 0.20274 | Train Acc: 95.000| Val Acc: 92.500\n"
     ]
    },
    {
     "name": "stderr",
     "output_type": "stream",
     "text": [
      "100%|██████████| 80/80 [00:20<00:00,  3.91it/s]\n",
      "100%|██████████| 20/20 [00:01<00:00, 12.86it/s]\n"
     ]
    },
    {
     "name": "stdout",
     "output_type": "stream",
     "text": [
      "\n",
      " Epoch 18: | Train Loss: 0.16787 | Val Loss: 0.23157 | Train Acc: 96.250| Val Acc: 92.500\n"
     ]
    },
    {
     "name": "stderr",
     "output_type": "stream",
     "text": [
      "100%|██████████| 80/80 [00:20<00:00,  3.94it/s]\n",
      "100%|██████████| 20/20 [00:01<00:00, 12.71it/s]\n"
     ]
    },
    {
     "name": "stdout",
     "output_type": "stream",
     "text": [
      "\n",
      " Epoch 19: | Train Loss: 0.16169 | Val Loss: 0.03239 | Train Acc: 95.000| Val Acc: 100.000\n"
     ]
    },
    {
     "name": "stderr",
     "output_type": "stream",
     "text": [
      "100%|██████████| 80/80 [00:20<00:00,  3.92it/s]\n",
      "100%|██████████| 20/20 [00:01<00:00, 12.95it/s]\n"
     ]
    },
    {
     "name": "stdout",
     "output_type": "stream",
     "text": [
      "\n",
      " Epoch 20: | Train Loss: 0.05893 | Val Loss: 0.01648 | Train Acc: 98.438| Val Acc: 100.000\n"
     ]
    },
    {
     "name": "stderr",
     "output_type": "stream",
     "text": [
      "100%|██████████| 80/80 [00:20<00:00,  3.94it/s]\n",
      "100%|██████████| 20/20 [00:01<00:00, 12.86it/s]\n"
     ]
    },
    {
     "name": "stdout",
     "output_type": "stream",
     "text": [
      "\n",
      " Epoch 21: | Train Loss: 0.14619 | Val Loss: 0.03820 | Train Acc: 97.500| Val Acc: 100.000\n"
     ]
    },
    {
     "name": "stderr",
     "output_type": "stream",
     "text": [
      "100%|██████████| 80/80 [00:20<00:00,  3.94it/s]\n",
      "100%|██████████| 20/20 [00:01<00:00, 13.05it/s]\n"
     ]
    },
    {
     "name": "stdout",
     "output_type": "stream",
     "text": [
      "\n",
      " Epoch 22: | Train Loss: 0.04713 | Val Loss: 0.03138 | Train Acc: 98.125| Val Acc: 100.000\n"
     ]
    },
    {
     "name": "stderr",
     "output_type": "stream",
     "text": [
      "100%|██████████| 80/80 [00:20<00:00,  3.90it/s]\n",
      "100%|██████████| 20/20 [00:01<00:00, 12.83it/s]\n"
     ]
    },
    {
     "name": "stdout",
     "output_type": "stream",
     "text": [
      "\n",
      " Epoch 23: | Train Loss: 0.13983 | Val Loss: 0.00744 | Train Acc: 95.938| Val Acc: 100.000\n"
     ]
    },
    {
     "name": "stderr",
     "output_type": "stream",
     "text": [
      "100%|██████████| 80/80 [00:20<00:00,  3.92it/s]\n",
      "100%|██████████| 20/20 [00:01<00:00, 12.79it/s]\n"
     ]
    },
    {
     "name": "stdout",
     "output_type": "stream",
     "text": [
      "\n",
      " Epoch 24: | Train Loss: 0.10649 | Val Loss: 0.01588 | Train Acc: 97.500| Val Acc: 98.750\n"
     ]
    },
    {
     "name": "stderr",
     "output_type": "stream",
     "text": [
      "100%|██████████| 80/80 [00:20<00:00,  3.91it/s]\n",
      "100%|██████████| 20/20 [00:01<00:00, 12.95it/s]\n"
     ]
    },
    {
     "name": "stdout",
     "output_type": "stream",
     "text": [
      "\n",
      " Epoch 25: | Train Loss: 0.14627 | Val Loss: 0.04438 | Train Acc: 96.875| Val Acc: 97.500\n"
     ]
    },
    {
     "name": "stderr",
     "output_type": "stream",
     "text": [
      "100%|██████████| 80/80 [00:20<00:00,  3.95it/s]\n",
      "100%|██████████| 20/20 [00:01<00:00, 12.94it/s]\n"
     ]
    },
    {
     "name": "stdout",
     "output_type": "stream",
     "text": [
      "\n",
      " Epoch 26: | Train Loss: 0.07954 | Val Loss: 0.00673 | Train Acc: 98.438| Val Acc: 100.000\n"
     ]
    },
    {
     "name": "stderr",
     "output_type": "stream",
     "text": [
      "100%|██████████| 80/80 [00:20<00:00,  3.90it/s]\n",
      "100%|██████████| 20/20 [00:01<00:00, 12.95it/s]\n"
     ]
    },
    {
     "name": "stdout",
     "output_type": "stream",
     "text": [
      "\n",
      " Epoch 27: | Train Loss: 0.03078 | Val Loss: 0.01813 | Train Acc: 99.062| Val Acc: 100.000\n",
      "Accuracy improved from 98.75 to 99.0625. Model saved.\n"
     ]
    },
    {
     "name": "stderr",
     "output_type": "stream",
     "text": [
      "100%|██████████| 80/80 [00:20<00:00,  3.91it/s]\n",
      "100%|██████████| 20/20 [00:01<00:00, 12.33it/s]\n"
     ]
    },
    {
     "name": "stdout",
     "output_type": "stream",
     "text": [
      "\n",
      " Epoch 28: | Train Loss: 0.01898 | Val Loss: 0.00596 | Train Acc: 99.375| Val Acc: 100.000\n",
      "Accuracy improved from 99.0625 to 99.375. Model saved.\n"
     ]
    },
    {
     "name": "stderr",
     "output_type": "stream",
     "text": [
      "100%|██████████| 80/80 [00:20<00:00,  3.92it/s]\n",
      "100%|██████████| 20/20 [00:01<00:00, 12.72it/s]\n"
     ]
    },
    {
     "name": "stdout",
     "output_type": "stream",
     "text": [
      "\n",
      " Epoch 29: | Train Loss: 0.05311 | Val Loss: 0.04954 | Train Acc: 98.438| Val Acc: 98.750\n"
     ]
    },
    {
     "name": "stderr",
     "output_type": "stream",
     "text": [
      "100%|██████████| 80/80 [00:20<00:00,  3.89it/s]\n",
      "100%|██████████| 20/20 [00:01<00:00, 12.84it/s]\n"
     ]
    },
    {
     "name": "stdout",
     "output_type": "stream",
     "text": [
      "\n",
      " Epoch 30: | Train Loss: 0.12234 | Val Loss: 0.07458 | Train Acc: 97.188| Val Acc: 98.750\n"
     ]
    },
    {
     "name": "stderr",
     "output_type": "stream",
     "text": [
      "100%|██████████| 80/80 [00:20<00:00,  3.92it/s]\n",
      "100%|██████████| 20/20 [00:01<00:00, 12.92it/s]\n"
     ]
    },
    {
     "name": "stdout",
     "output_type": "stream",
     "text": [
      "\n",
      " Epoch 31: | Train Loss: 0.11237 | Val Loss: 0.00642 | Train Acc: 96.250| Val Acc: 100.000\n"
     ]
    },
    {
     "name": "stderr",
     "output_type": "stream",
     "text": [
      "100%|██████████| 80/80 [00:20<00:00,  3.89it/s]\n",
      "100%|██████████| 20/20 [00:01<00:00, 12.38it/s]\n"
     ]
    },
    {
     "name": "stdout",
     "output_type": "stream",
     "text": [
      "\n",
      " Epoch 32: | Train Loss: 0.06019 | Val Loss: 0.56807 | Train Acc: 98.125| Val Acc: 85.000\n"
     ]
    },
    {
     "name": "stderr",
     "output_type": "stream",
     "text": [
      "100%|██████████| 80/80 [00:20<00:00,  3.93it/s]\n",
      "100%|██████████| 20/20 [00:01<00:00, 12.88it/s]\n"
     ]
    },
    {
     "name": "stdout",
     "output_type": "stream",
     "text": [
      "\n",
      " Epoch 33: | Train Loss: 0.17288 | Val Loss: 0.04300 | Train Acc: 97.812| Val Acc: 98.750\n"
     ]
    },
    {
     "name": "stderr",
     "output_type": "stream",
     "text": [
      "100%|██████████| 80/80 [00:20<00:00,  3.88it/s]\n",
      "100%|██████████| 20/20 [00:01<00:00, 12.72it/s]\n"
     ]
    },
    {
     "name": "stdout",
     "output_type": "stream",
     "text": [
      "\n",
      " Epoch 34: | Train Loss: 0.03271 | Val Loss: 0.00209 | Train Acc: 99.062| Val Acc: 100.000\n"
     ]
    },
    {
     "name": "stderr",
     "output_type": "stream",
     "text": [
      "100%|██████████| 80/80 [00:20<00:00,  3.88it/s]\n",
      "100%|██████████| 20/20 [00:01<00:00, 12.74it/s]\n"
     ]
    },
    {
     "name": "stdout",
     "output_type": "stream",
     "text": [
      "\n",
      " Epoch 35: | Train Loss: 0.18000 | Val Loss: 0.09309 | Train Acc: 94.375| Val Acc: 97.500\n"
     ]
    },
    {
     "name": "stderr",
     "output_type": "stream",
     "text": [
      "100%|██████████| 80/80 [00:20<00:00,  3.86it/s]\n",
      "100%|██████████| 20/20 [00:01<00:00, 12.32it/s]\n"
     ]
    },
    {
     "name": "stdout",
     "output_type": "stream",
     "text": [
      "\n",
      " Epoch 36: | Train Loss: 0.11582 | Val Loss: 0.20210 | Train Acc: 96.875| Val Acc: 90.000\n"
     ]
    },
    {
     "name": "stderr",
     "output_type": "stream",
     "text": [
      "100%|██████████| 80/80 [00:20<00:00,  3.89it/s]\n",
      "100%|██████████| 20/20 [00:01<00:00, 12.73it/s]\n"
     ]
    },
    {
     "name": "stdout",
     "output_type": "stream",
     "text": [
      "\n",
      " Epoch 37: | Train Loss: 0.17891 | Val Loss: 0.69745 | Train Acc: 93.438| Val Acc: 80.000\n"
     ]
    },
    {
     "name": "stderr",
     "output_type": "stream",
     "text": [
      "100%|██████████| 80/80 [00:20<00:00,  3.87it/s]\n",
      "100%|██████████| 20/20 [00:01<00:00, 12.61it/s]\n"
     ]
    },
    {
     "name": "stdout",
     "output_type": "stream",
     "text": [
      "\n",
      " Epoch 38: | Train Loss: 0.19100 | Val Loss: 0.00445 | Train Acc: 92.812| Val Acc: 100.000\n"
     ]
    },
    {
     "name": "stderr",
     "output_type": "stream",
     "text": [
      "100%|██████████| 80/80 [00:20<00:00,  3.90it/s]\n",
      "100%|██████████| 20/20 [00:01<00:00, 12.77it/s]\n"
     ]
    },
    {
     "name": "stdout",
     "output_type": "stream",
     "text": [
      "\n",
      " Epoch 39: | Train Loss: 0.08930 | Val Loss: 0.00752 | Train Acc: 96.250| Val Acc: 100.000\n"
     ]
    },
    {
     "name": "stderr",
     "output_type": "stream",
     "text": [
      "100%|██████████| 80/80 [00:20<00:00,  3.86it/s]\n",
      "100%|██████████| 20/20 [00:01<00:00, 12.83it/s]\n"
     ]
    },
    {
     "name": "stdout",
     "output_type": "stream",
     "text": [
      "\n",
      " Epoch 40: | Train Loss: 0.06191 | Val Loss: 0.00323 | Train Acc: 98.750| Val Acc: 100.000\n"
     ]
    },
    {
     "name": "stderr",
     "output_type": "stream",
     "text": [
      "100%|██████████| 80/80 [00:20<00:00,  3.89it/s]\n",
      "100%|██████████| 20/20 [00:01<00:00, 12.60it/s]\n"
     ]
    },
    {
     "name": "stdout",
     "output_type": "stream",
     "text": [
      "\n",
      " Epoch 41: | Train Loss: 0.03220 | Val Loss: 0.02580 | Train Acc: 99.375| Val Acc: 100.000\n"
     ]
    },
    {
     "name": "stderr",
     "output_type": "stream",
     "text": [
      "100%|██████████| 80/80 [00:20<00:00,  3.90it/s]\n",
      "100%|██████████| 20/20 [00:01<00:00, 12.74it/s]\n"
     ]
    },
    {
     "name": "stdout",
     "output_type": "stream",
     "text": [
      "\n",
      " Epoch 42: | Train Loss: 0.05082 | Val Loss: 0.01206 | Train Acc: 98.750| Val Acc: 100.000\n"
     ]
    },
    {
     "name": "stderr",
     "output_type": "stream",
     "text": [
      "100%|██████████| 80/80 [00:20<00:00,  3.85it/s]\n",
      "100%|██████████| 20/20 [00:01<00:00, 11.90it/s]\n"
     ]
    },
    {
     "name": "stdout",
     "output_type": "stream",
     "text": [
      "\n",
      " Epoch 43: | Train Loss: 0.00612 | Val Loss: 0.00762 | Train Acc: 100.000| Val Acc: 100.000\n",
      "Accuracy improved from 99.375 to 100.0. Model saved.\n"
     ]
    },
    {
     "name": "stderr",
     "output_type": "stream",
     "text": [
      "100%|██████████| 80/80 [00:20<00:00,  3.89it/s]\n",
      "100%|██████████| 20/20 [00:01<00:00, 12.66it/s]\n"
     ]
    },
    {
     "name": "stdout",
     "output_type": "stream",
     "text": [
      "\n",
      " Epoch 44: | Train Loss: 0.08986 | Val Loss: 0.03778 | Train Acc: 98.438| Val Acc: 100.000\n"
     ]
    },
    {
     "name": "stderr",
     "output_type": "stream",
     "text": [
      "100%|██████████| 80/80 [00:20<00:00,  3.91it/s]\n",
      "100%|██████████| 20/20 [00:01<00:00, 12.80it/s]\n"
     ]
    },
    {
     "name": "stdout",
     "output_type": "stream",
     "text": [
      "\n",
      " Epoch 45: | Train Loss: 0.09194 | Val Loss: 0.02238 | Train Acc: 97.188| Val Acc: 100.000\n"
     ]
    },
    {
     "name": "stderr",
     "output_type": "stream",
     "text": [
      "100%|██████████| 80/80 [00:20<00:00,  3.89it/s]\n",
      "100%|██████████| 20/20 [00:01<00:00, 12.43it/s]\n"
     ]
    },
    {
     "name": "stdout",
     "output_type": "stream",
     "text": [
      "\n",
      " Epoch 46: | Train Loss: 0.01244 | Val Loss: 0.00414 | Train Acc: 99.688| Val Acc: 100.000\n"
     ]
    },
    {
     "name": "stderr",
     "output_type": "stream",
     "text": [
      "100%|██████████| 80/80 [00:20<00:00,  3.83it/s]\n",
      "100%|██████████| 20/20 [00:01<00:00, 12.59it/s]\n"
     ]
    },
    {
     "name": "stdout",
     "output_type": "stream",
     "text": [
      "\n",
      " Epoch 47: | Train Loss: 0.01207 | Val Loss: 0.00727 | Train Acc: 99.688| Val Acc: 100.000\n"
     ]
    },
    {
     "name": "stderr",
     "output_type": "stream",
     "text": [
      "100%|██████████| 80/80 [00:21<00:00,  3.79it/s]\n",
      "100%|██████████| 20/20 [00:01<00:00, 12.42it/s]\n"
     ]
    },
    {
     "name": "stdout",
     "output_type": "stream",
     "text": [
      "\n",
      " Epoch 48: | Train Loss: 0.00953 | Val Loss: 0.00378 | Train Acc: 99.688| Val Acc: 100.000\n"
     ]
    },
    {
     "name": "stderr",
     "output_type": "stream",
     "text": [
      "100%|██████████| 80/80 [00:21<00:00,  3.71it/s]\n",
      "100%|██████████| 20/20 [00:01<00:00, 10.54it/s]\n"
     ]
    },
    {
     "name": "stdout",
     "output_type": "stream",
     "text": [
      "\n",
      " Epoch 49: | Train Loss: 0.01838 | Val Loss: 0.06878 | Train Acc: 99.375| Val Acc: 98.750\n"
     ]
    },
    {
     "name": "stderr",
     "output_type": "stream",
     "text": [
      "100%|██████████| 80/80 [00:27<00:00,  2.86it/s]\n",
      "100%|██████████| 20/20 [00:02<00:00,  8.80it/s]"
     ]
    },
    {
     "name": "stdout",
     "output_type": "stream",
     "text": [
      "\n",
      " Epoch 50: | Train Loss: 0.01902 | Val Loss: 0.10418 | Train Acc: 99.375| Val Acc: 95.000\n"
     ]
    },
    {
     "name": "stderr",
     "output_type": "stream",
     "text": [
      "\n"
     ]
    }
   ],
   "source": [
    "%time\n",
    "\n",
    "for e in range(1, config['epoch'] + 1):\n",
    "    num_cnt = 0\n",
    "    \n",
    "    # TRAINING\n",
    "    train_epoch_loss = 0\n",
    "    train_epoch_acc = 0\n",
    "    model.train()\n",
    "\n",
    "    for X_train_batch, y_train_batch, _ in tqdm(train_loader):\n",
    "\n",
    "        inputs, labels = X_train_batch.to(device), y_train_batch.to(device)\n",
    "        optimizer.zero_grad()\n",
    "        outputs = model(inputs)\n",
    "        _, preds = torch.max(outputs, 1)\n",
    "        train_loss = criterion(outputs, labels)\n",
    "        train_loss.backward()\n",
    "        optimizer.step()\n",
    "\n",
    "        num_cnt = len(labels)\n",
    "\n",
    "        train_epoch_loss += float(train_loss.item() * inputs.size(0) / num_cnt)\n",
    "        train_corr = torch.sum(preds == labels.data)\n",
    "\n",
    "        train_epoch_acc += float((train_corr.double() / num_cnt).cpu() * 100)\n",
    "    \n",
    "    # VALIDATION\n",
    "    with torch.no_grad():\n",
    "        model.eval()\n",
    "        val_epoch_loss = 0\n",
    "        val_epoch_acc = 0\n",
    "        for X_val_batch, y_val_batch, _ in tqdm(val_loader):\n",
    "            inputs, labels = X_val_batch.to(device), y_val_batch.to(device)\n",
    "            optimizer.zero_grad()\n",
    "\n",
    "            outputs = model(inputs)\n",
    "            _, preds = torch.max(outputs, 1)  \n",
    "            val_loss = criterion(outputs, labels)\n",
    "\n",
    "            num_cnt = len(labels)\n",
    "\n",
    "            val_epoch_loss += float(val_loss.item() * inputs.size(0) / num_cnt)\n",
    "            val_corr = torch.sum(preds == labels.data)\n",
    "\n",
    "            val_epoch_acc += float((val_corr.double() / num_cnt).cpu() * 100)\n",
    "            \n",
    "    loss_stats['train'].append(train_epoch_loss/len(train_loader))\n",
    "    loss_stats['val'].append(val_epoch_loss/len(val_loader))\n",
    "    accuracy_stats['train'].append(train_epoch_acc/len(train_loader))\n",
    "    accuracy_stats['val'].append(val_epoch_acc/len(val_loader))\n",
    "    \n",
    "    print(f'\\n Epoch {e+0:02}: | Train Loss: {train_epoch_loss/len(train_loader):.5f} | Val Loss: {val_epoch_loss/len(val_loader):.5f} | Train Acc: {train_epoch_acc/len(train_loader):.3f}| Val Acc: {val_epoch_acc/len(val_loader):.3f}')\n",
    "    \n",
    "    # save the model\n",
    "    if acc_train < train_epoch_acc/len(train_loader):\n",
    "        print('Accuracy improved from {} to {}. Model saved.'.format(\n",
    "            acc_train, train_epoch_acc/len(train_loader)))\n",
    "        acc_train = train_epoch_acc/len(train_loader)\n",
    "        torch.save({\n",
    "            'epoch': e,\n",
    "            'model_state_dict': model.state_dict(),\n",
    "        }, f'./{root_dir}/{save_name}.pth')"
   ]
  },
  {
   "cell_type": "markdown",
   "metadata": {},
   "source": [
    "### モデルの評価：精度の計算"
   ]
  },
  {
   "cell_type": "code",
   "execution_count": 12,
   "metadata": {},
   "outputs": [],
   "source": [
    "train_val_acc_df = pd.DataFrame.from_dict(accuracy_stats).reset_index().melt(\n",
    "    id_vars=['index']).rename(columns={\"index\": \"epochs\"})\n",
    "\n",
    "train_val_loss_df = pd.DataFrame.from_dict(loss_stats).reset_index().melt(\n",
    "    id_vars=['index']).rename(columns={\"index\": \"epochs\"})"
   ]
  },
  {
   "cell_type": "markdown",
   "metadata": {},
   "source": [
    "### 可視化"
   ]
  },
  {
   "cell_type": "code",
   "execution_count": 22,
   "metadata": {},
   "outputs": [
    {
     "data": {
      "image/png": "[encoded data removed]",
      "text/plain": [
       "<Figure size 600x400 with 1 Axes>"
      ]
     },
     "metadata": {},
     "output_type": "display_data"
    }
   ],
   "source": [
    "#精度の可視化\n",
    "\n",
    "fig, axes = plt.subplots(figsize=(6, 4))\n",
    "\n",
    "sns.lineplot(data=train_val_acc_df, \n",
    "            x=\"epochs\", \n",
    "            y=\"value\",\n",
    "            hue=\"variable\"\n",
    "            ).set_title('Train-Val Accuracy/Epoch')\n",
    "\n",
    "plt.savefig(f'./{root_dir}/Accuracy.png', dpi=300)\n",
    "\n",
    "plt.show()"
   ]
  },
  {
   "cell_type": "code",
   "execution_count": 23,
   "metadata": {},
   "outputs": [
    {
     "data": {
      "image/png": "[encoded data removed]",
      "text/plain": [
       "<Figure size 600x400 with 1 Axes>"
      ]
     },
     "metadata": {},
     "output_type": "display_data"
    }
   ],
   "source": [
    "#損失関数の値の可視化\n",
    "\n",
    "fig, axes = plt.subplots(figsize=(6, 4))\n",
    "\n",
    "sns.lineplot(data=train_val_loss_df, \n",
    "            x=\"epochs\", \n",
    "            y=\"value\",\n",
    "            hue=\"variable\"\n",
    "            ).set_title('Train-Val Loss/Epoch')\n",
    "\n",
    "plt.savefig(f'./{root_dir}/Loss.png', dpi=300)\n",
    "\n",
    "plt.show()"
   ]
  },
  {
   "cell_type": "code",
   "execution_count": null,
   "metadata": {},
   "outputs": [],
   "source": []
  }
 ],
 "metadata": {
  "kernelspec": {
   "display_name": "Python 3 (ipykernel)",
   "language": "python",
   "name": "python3"
  },
  "language_info": {
   "codemirror_mode": {
    "name": "ipython",
    "version": 3
   },
   "file_extension": ".py",
   "mimetype": "text/x-python",
   "name": "python",
   "nbconvert_exporter": "python",
   "pygments_lexer": "ipython3",
   "version": "3.10.14"
  }
 },
 "nbformat": 4,
 "nbformat_minor": 4
}
