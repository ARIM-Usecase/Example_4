{
 "cells": [
  {
   "cell_type": "markdown",
   "metadata": {},
   "source": [
    "# ARIM-Academy：　機器データ利活用ユースケース（１）\n",
    "### 機器：走査電子顕微鏡（SEM）\n",
    "### 分析：CNNによる画像識別　（データ増幅編）"
   ]
  },
  {
   "cell_type": "markdown",
   "metadata": {},
   "source": [
    "## データセット\n",
    "\n",
    "**『LIBカソード電極のSEMデータセット』**は、さまざまなLi（Ni、Co、Mn）O 2（NCM）カソードの主な組成（例：333、523、622、および811）とさまざまな状態（例：初期、サイクル前、および100回サイクル）を分類する予測モデルの開発を目的に集められた走査電子顕微鏡（SEM）画像です。電池材料の特性を、画像情報からより迅速かつ正確に評価でき、次世代のリチウムイオン電池の開発に役立ちます。\n",
    "\n",
    "[1] Oh, J., Yeom, J., Madika, B. et al. Composition and state prediction of lithium-ion cathode via convolutional neural network trained on scanning electron microscopy images. npj Comput Mater 10, 88 (2024). https://doi.org/10.1038/s41524-024-01279-6\n",
    "\n",
    "<img src=\"./img/image.png\" alt=\"メインイメージ\">"
   ]
  },
  {
   "cell_type": "markdown",
   "metadata": {},
   "source": [
    "### コードへの接続\n",
    "google colabにおけるオンラインの場合にこのラインを実行します。（<font color=\"red\">Google colabに接続しない場合には不要</font>）"
   ]
  },
  {
   "cell_type": "code",
   "execution_count": null,
   "metadata": {},
   "outputs": [],
   "source": [
    "!git clone https://github.com/ARIM-Usecase/Example_4.git\n",
    "%cd Example_4"
   ]
  },
  {
   "cell_type": "markdown",
   "metadata": {},
   "source": [
    "### ライブラリのインポート\n",
    "コード実行で必要なpythonのライブラリをimport文でロードします。"
   ]
  },
  {
   "cell_type": "code",
   "execution_count": 1,
   "metadata": {},
   "outputs": [],
   "source": [
    "# I/Oライブラリ\n",
    "import os\n",
    "import random\n",
    "import sys\n",
    "\n",
    "# 汎用イブラリ\n",
    "from PIL import Image"
   ]
  },
  {
   "cell_type": "markdown",
   "metadata": {},
   "source": [
    "### データアーギュメント（データ増幅化）"
   ]
  },
  {
   "cell_type": "code",
   "execution_count": 2,
   "metadata": {},
   "outputs": [],
   "source": [
    "# Directory function\n",
    "def make_dir(path):\n",
    "    if not os.path.exists(path):\n",
    "        os.makedirs(path)\n",
    "    return path"
   ]
  },
  {
   "cell_type": "code",
   "execution_count": 3,
   "metadata": {},
   "outputs": [],
   "source": [
    "# Function to generate images\n",
    "def generate_imgs(label, imgs, size, pixel=True, path=None, verbose=False):\n",
    "    if len(imgs) == 0:  # Check if the image list is empty\n",
    "        print(f\"No images found for {label}. Skipping...\")\n",
    "        return\n",
    "\n",
    "    if pixel == True and verbose:\n",
    "        print('Generated image size will be half of source image size.')\n",
    "\n",
    "    save_path = make_dir(os.path.join(path))\n",
    "\n",
    "    for _ in range(size):\n",
    "        file_num = random.randint(0, len(imgs) - 1)\n",
    "        img_name, img_format = os.path.splitext(imgs[file_num])\n",
    "\n",
    "        image = Image.open(os.path.join('data', label, imgs[file_num]))\n",
    "\n",
    "        if pixel == 'full':\n",
    "            generated_img_name = f'{label}_full_{img_name}{img_format}'\n",
    "\n",
    "            # y-axis > 895 pixel for removing information of SEM images\n",
    "            image.crop((0, 0, image.size[0], image.size[1] - 65)).save(os.path.join(save_path, generated_img_name))\n",
    "\n",
    "        else:\n",
    "            # Set the size of generated images\n",
    "            pixels = [int(image.size[0] / 2), int(image.size[1] / 2)] if pixel == True else [int(pixel), int(pixel)]  # [size, size] / square shape\n",
    "\n",
    "            if image.size[0] - pixels[0] < 0 and image.size[1] - pixels[1] < 0:\n",
    "                print('Cropped images must be smaller than full-sized images.')\n",
    "                sys.exit(1)\n",
    "\n",
    "            # Generate random upper-left coordinate\n",
    "            x_coord, y_coord = random.randint(0, image.size[0] - pixels[0]), random.randint(0, image.size[1] - pixels[1] - 65)\n",
    "\n",
    "            # Cropping\n",
    "            generated_img_name = f'{label}_x{x_coord}y{y_coord}_{img_name}{img_format}'\n",
    "            image.crop((x_coord, y_coord, x_coord + pixels[0], y_coord + pixels[1])).save(os.path.join(save_path, generated_img_name))\n",
    "\n",
    "    if verbose:\n",
    "        print(f'Saved path: {path}')"
   ]
  },
  {
   "cell_type": "markdown",
   "metadata": {},
   "source": [
    "### 初期設定"
   ]
  },
  {
   "cell_type": "code",
   "execution_count": 4,
   "metadata": {},
   "outputs": [],
   "source": [
    "# Variables\n",
    "path = 'data'  # Set the folder path (data folder is at the same level as the notebook)\n",
    "size = 100  # Set the desired dataset size\n",
    "pixel = True  # Set pixel size for generated images\n",
    "test_ratio = 10  # Ratio for test dataset\n",
    "validation_ratio = 20  # Ratio for validation dataset\n",
    "name = None  # Dataset name\n",
    "seed = 1345879  # Seed for reproducibility\n",
    "verbose = True  # Set verbosity"
   ]
  },
  {
   "cell_type": "markdown",
   "metadata": {},
   "source": [
    "### ファイル操作"
   ]
  },
  {
   "cell_type": "code",
   "execution_count": 5,
   "metadata": {},
   "outputs": [],
   "source": [
    "# Step 1: Prepare paths and labels\n",
    "full_path = os.path.join('./', path)\n",
    "labels = [label for label in os.listdir(full_path) if os.path.isdir(os.path.join(full_path, label))]"
   ]
  },
  {
   "cell_type": "code",
   "execution_count": 6,
   "metadata": {},
   "outputs": [],
   "source": [
    "save_path = os.path.join('./argmemtated_data/output')"
   ]
  },
  {
   "cell_type": "code",
   "execution_count": 7,
   "metadata": {},
   "outputs": [
    {
     "name": "stdout",
     "output_type": "stream",
     "text": [
      "Number of images in 333 folder: 183\n",
      "Number of training 333 images: 132\n",
      "Number of validation 333 images: 33\n",
      "Number of test 333 images: 18\n",
      "Generated image size will be half of source image size.\n",
      "Saved path: ./argumemt_data/output\\test\\333\n",
      "Generated image size will be half of source image size.\n",
      "Saved path: ./argumemt_data/output\\train\\333\n",
      "Generated image size will be half of source image size.\n",
      "Saved path: ./argumemt_data/output\\validate\\333\n",
      "Number of images in 333_cycled folder: 82\n",
      "Number of training 333_cycled images: 59\n",
      "Number of validation 333_cycled images: 15\n",
      "Number of test 333_cycled images: 8\n",
      "Generated image size will be half of source image size.\n",
      "Saved path: ./argumemt_data/output\\test\\333_cycled\n",
      "Generated image size will be half of source image size.\n",
      "Saved path: ./argumemt_data/output\\train\\333_cycled\n",
      "Generated image size will be half of source image size.\n",
      "Saved path: ./argumemt_data/output\\validate\\333_cycled\n",
      "Number of images in 333_formation folder: 51\n",
      "Number of training 333_formation images: 37\n",
      "Number of validation 333_formation images: 9\n",
      "Number of test 333_formation images: 5\n",
      "Generated image size will be half of source image size.\n",
      "Saved path: ./argumemt_data/output\\test\\333_formation\n",
      "Generated image size will be half of source image size.\n",
      "Saved path: ./argumemt_data/output\\train\\333_formation\n",
      "Generated image size will be half of source image size.\n",
      "Saved path: ./argumemt_data/output\\validate\\333_formation\n",
      "Number of images in 523 folder: 198\n",
      "Number of training 523 images: 142\n",
      "Number of validation 523 images: 36\n",
      "Number of test 523 images: 20\n",
      "Generated image size will be half of source image size.\n",
      "Saved path: ./argumemt_data/output\\test\\523\n",
      "Generated image size will be half of source image size.\n",
      "Saved path: ./argumemt_data/output\\train\\523\n",
      "Generated image size will be half of source image size.\n",
      "Saved path: ./argumemt_data/output\\validate\\523\n",
      "Number of images in example folder: 0\n",
      "Number of training example images: 0\n",
      "Number of validation example images: 0\n",
      "Number of test example images: 0\n",
      "No images found for example. Skipping...\n",
      "No images found for example. Skipping...\n",
      "No images found for example. Skipping...\n",
      "Done!\n"
     ]
    }
   ],
   "source": [
    "# Step 3: Process each label\n",
    "for label in labels:\n",
    "    # Get image file list (change 'jpg' extension if needed)\n",
    "    imgs = [f for f in os.listdir(os.path.join(full_path, label)) if f[-3:] == 'jpg' and f[0] != '.']\n",
    "    num_imgs = len(imgs)\n",
    "\n",
    "    if verbose:\n",
    "        print(f'Number of images in {label} folder: {num_imgs}')\n",
    "\n",
    "    # Step 4: Split the dataset into train, validation, and test sets\n",
    "    num_test = int(round(test_ratio / 100 * num_imgs, 0))\n",
    "    num_imgs -= num_test\n",
    "    num_validate = int(round(validation_ratio / 100 * num_imgs, 0))\n",
    "    num_train = num_imgs - num_validate\n",
    "\n",
    "    if verbose:\n",
    "        print(f'Number of training {label} images: {num_train}')\n",
    "        print(f'Number of validation {label} images: {num_validate}')\n",
    "        print(f'Number of test {label} images: {num_test}')\n",
    "\n",
    "    # Step 5: Generate full images if size == 0\n",
    "    if size == 0:\n",
    "        generate_imgs(label, imgs, len(imgs), pixel='full', path=os.path.join(full_path, 'test_full'))\n",
    "\n",
    "    else:\n",
    "        # Seed for randomness consistency\n",
    "        random.seed(seed)\n",
    "\n",
    "        # Step 6: Randomly select test images\n",
    "        test_imgs = []\n",
    "        for _ in range(num_test):\n",
    "            if len(imgs) > 0:\n",
    "                test_imgs.append(imgs.pop(random.randint(0, len(imgs) - 1)))\n",
    "\n",
    "        # Step 7: Randomly select validation images\n",
    "        validate_imgs = []\n",
    "        for _ in range(num_validate):\n",
    "            if len(imgs) > 0:\n",
    "                validate_imgs.append(imgs.pop(random.randint(0, len(imgs) - 1)))\n",
    "\n",
    "        # Remaining images are for training\n",
    "        training_imgs = imgs\n",
    "\n",
    "        # Step 8: Generate test images\n",
    "        generate_imgs(label, test_imgs, size=int(size * test_ratio / 100),\n",
    "                      pixel=pixel, path=os.path.join(save_path, 'test', label), verbose=verbose)\n",
    "\n",
    "        # Step 9: Generate training images\n",
    "        generate_imgs(label, training_imgs, int(size * (1 - validation_ratio / 100)),\n",
    "                      pixel=pixel, path=os.path.join(save_path, 'train', label), verbose=verbose)\n",
    "\n",
    "        # Step 10: Generate validation images\n",
    "        generate_imgs(label, validate_imgs, int(size * validation_ratio / 100),\n",
    "                      pixel=pixel, path=os.path.join(save_path, 'validate', label), verbose=verbose)\n",
    "\n",
    "if verbose:\n",
    "    print('Done!')"
   ]
  },
  {
   "cell_type": "code",
   "execution_count": null,
   "metadata": {},
   "outputs": [],
   "source": []
  },
  {
   "cell_type": "code",
   "execution_count": null,
   "metadata": {},
   "outputs": [],
   "source": []
  }
 ],
 "metadata": {
  "kernelspec": {
   "display_name": "Python 3 (ipykernel)",
   "language": "python",
   "name": "python3"
  },
  "language_info": {
   "codemirror_mode": {
    "name": "ipython",
    "version": 3
   },
   "file_extension": ".py",
   "mimetype": "text/x-python",
   "name": "python",
   "nbconvert_exporter": "python",
   "pygments_lexer": "ipython3",
   "version": "3.12.4"
  }
 },
 "nbformat": 4,
 "nbformat_minor": 4
}
