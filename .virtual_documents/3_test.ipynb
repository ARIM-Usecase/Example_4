








!pip install efficientnet-pytorch
!git clone https://github.com/ARIM-Usecase/Example_4.git
%cd Example_4





#I/Oライブラリ
from tqdm import tqdm

#汎用ライブラリ
import numpy as np
import pandas as pd
import seaborn as sns
import matplotlib.pyplot as plt

#機械学習/深層学習ライブラリ
import torch
from torch.utils.data import DataLoader
from efficientnet_pytorch import EfficientNet

from sklearn.metrics import classification_report, confusion_matrix

# utilモジュール
from module.config import get_config
from module.utils import load_test_dataset
from module.utils import loss_fn
from module.utils import optimize_fn








dataset_name = 'output'
version = 'v1'
config = get_config(dataset_name, version)
save_name = dataset_name + '_' + version

root_dir = config['data_dir']
print("The data lies here =>", root_dir)


seed = config['seed']
np.random.seed(seed)
torch.manual_seed(seed)





device = torch.device("cuda" if torch.cuda.is_available() else "cpu")
print("We're using =>", device)








test_set = load_test_dataset(config)
test_loader = DataLoader(dataset=test_set, shuffle=False, batch_size=1)





if config['pretrained']:
    model = EfficientNet.from_pretrained('efficientnet-b7', num_classes=12)  # Pre-trained
else:
    model = EfficientNet.from_name('efficientnet-b7', num_classes=12)  # from model





model.to(device)

#構築モデルの読み込み
model.load_state_dict(torch.load(f'./{root_dir}/{save_name}.pth', map_location=device, weights_only=True)['model_state_dict'])

criterion = loss_fn(config)
optimizer = optimize_fn(config, model.parameters())


# Test
with torch.no_grad():
    model.eval()
    result = list()
    y_true = []
    y_pred = []
    
    class_names = ['333', '333_cycled', '333_formation','523'] 

    for X_val_batch, y_val_batch, img_name in tqdm(test_loader):
        inputs, labels = X_val_batch.to(device), y_val_batch.to(device)
        optimizer.zero_grad()

        outputs = model(inputs)
        
        _, preds = torch.max(outputs, 1)
        preds = test_set.idx2class[int(preds.detach().cpu())]
        labels = test_set.idx2class[int(labels.detach().cpu())]
        result.append([img_name[0], preds, labels, preds==labels])

        y_true.append(labels)
        y_pred.append(preds)





    # Convert the lists to numpy arrays
    y_true = np.array(y_true)
    y_pred = np.array(y_pred)

    # Generate classification report
    report = classification_report(y_true, y_pred)
    
    print("Classification Report:")
    print(report)





plt.rcParams.update({
    'font.family': 'sans-serif',  # font family
    'font.size': 12,  # font size
    'font.weight': 'normal',  # font weight
    'axes.labelsize': 'large',  # label size
    'axes.titlesize': 'x-large',  # title size
    'xtick.labelsize': 'medium',  # x-axis tick label size
    'ytick.labelsize': 'medium',  # y-axis tick label size
    'legend.fontsize': 'medium',  # legend font size
    'lines.linewidth': 2.0,  # line width
    'figure.figsize': (4, 2),  # figure size in inches
    'figure.dpi': 100,  # figure resolution
    'savefig.dpi': 200,  # save figure resolution
    'axes.grid': False,# grid on or off
    'axes.linewidth':2.0,
    'grid.alpha': 0.5,  # grid transparency
    'grid.linestyle': '--',  # grid line style
    'text.color': 'black',  # text color
    'axes.facecolor': 'white',  # plot background color
    'figure.facecolor': 'white',  # figure background color
})


    # Generate confusion matrix
    cm = confusion_matrix(y_true, y_pred)

    # Plot confusion matrix
    plt.figure(figsize=(8, 6))

    sns.heatmap(cm, 
                annot=True, 
                fmt="d", 
                cmap="Blues", 
                cbar=False, 
                xticklabels=class_names, 
                yticklabels=class_names
                )
    
    plt.title("Confusion Matrix")
    plt.xlabel("Predicted Labels")
    plt.ylabel("True Labels")
    plt.xticks(rotation=45)
    
    plt.show()






result = pd.DataFrame(result, columns=['Image Name', 'Prediction', 'Label', 'Result'])
result.index += 1
result.to_csv(f'./{root_dir}/{save_name}.csv')

print(result)
print('Result has been saved.')



